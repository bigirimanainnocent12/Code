{
  "nbformat": 4,
  "nbformat_minor": 0,
  "metadata": {
    "colab": {
      "provenance": [],
      "authorship_tag": "ABX9TyPjB99jnockFkMKVCV72FM0",
      "include_colab_link": true
    },
    "kernelspec": {
      "name": "python3",
      "display_name": "Python 3"
    },
    "language_info": {
      "name": "python"
    }
  },
  "cells": [
    {
      "cell_type": "markdown",
      "metadata": {
        "id": "view-in-github",
        "colab_type": "text"
      },
      "source": [
        "<a href=\"https://colab.research.google.com/github/bigirimanainnocent12/Code/blob/main/ACCESS.ipynb\" target=\"_parent\"><img src=\"https://colab.research.google.com/assets/colab-badge.svg\" alt=\"Open In Colab\"/></a>"
      ]
    },
    {
      "cell_type": "code",
      "execution_count": null,
      "metadata": {
        "colab": {
          "base_uri": "https://localhost:8080/",
          "height": 383
        },
        "id": "lKVqNyUQGkM4",
        "outputId": "d70b2184-3303-4ea5-9029-152954964881"
      },
      "outputs": [
        {
          "output_type": "error",
          "ename": "ModuleNotFoundError",
          "evalue": "No module named 'pyodbc'",
          "traceback": [
            "\u001b[0;31m---------------------------------------------------------------------------\u001b[0m",
            "\u001b[0;31mModuleNotFoundError\u001b[0m                       Traceback (most recent call last)",
            "\u001b[0;32m<ipython-input-1-f384cea553f6>\u001b[0m in \u001b[0;36m<cell line: 0>\u001b[0;34m()\u001b[0m\n\u001b[0;32m----> 1\u001b[0;31m \u001b[0;32mimport\u001b[0m \u001b[0mpyodbc\u001b[0m\u001b[0;34m\u001b[0m\u001b[0;34m\u001b[0m\u001b[0m\n\u001b[0m\u001b[1;32m      2\u001b[0m \u001b[0;34m\u001b[0m\u001b[0m\n\u001b[1;32m      3\u001b[0m \u001b[0;31m# Spécifier le chemin de la base de données Access\u001b[0m\u001b[0;34m\u001b[0m\u001b[0;34m\u001b[0m\u001b[0m\n\u001b[1;32m      4\u001b[0m \u001b[0mdb_path\u001b[0m \u001b[0;34m=\u001b[0m \u001b[0;34mr'C:\\path\\to\\your\\database.accdb'\u001b[0m\u001b[0;34m\u001b[0m\u001b[0;34m\u001b[0m\u001b[0m\n\u001b[1;32m      5\u001b[0m \u001b[0;34m\u001b[0m\u001b[0m\n",
            "\u001b[0;31mModuleNotFoundError\u001b[0m: No module named 'pyodbc'",
            "",
            "\u001b[0;31m---------------------------------------------------------------------------\u001b[0;32m\nNOTE: If your import is failing due to a missing package, you can\nmanually install dependencies using either !pip or !apt.\n\nTo view examples of installing some common dependencies, click the\n\"Open Examples\" button below.\n\u001b[0;31m---------------------------------------------------------------------------\u001b[0m\n"
          ],
          "errorDetails": {
            "actions": [
              {
                "action": "open_url",
                "actionText": "Open Examples",
                "url": "/notebooks/snippets/importing_libraries.ipynb"
              }
            ]
          }
        }
      ],
      "source": [
        "import pyodbc\n",
        "\n",
        "# Spécifier le chemin de la base de données Access\n",
        "db_path = r'C:\\path\\to\\your\\database.accdb'\n",
        "\n",
        "# Créer une connexion à la base de données Access\n",
        "conn_str = (\n",
        "    r'DRIVER={Microsoft Access Driver (*.mdb, *.accdb)};'\n",
        "    r'DBQ=' + db_path + ';'\n",
        ")\n",
        "conn = pyodbc.connect(conn_str)\n",
        "\n",
        "# Créer un curseur\n",
        "cursor = conn.cursor()\n",
        "\n",
        "# Exemple de données à insérer\n",
        "data = [\n",
        "    (1, 'John', 'Doe', 30),\n",
        "    (2, 'Jane', 'Smith', 25)\n",
        "]\n",
        "\n",
        "# Insérer les données dans la table\n",
        "for record in data:\n",
        "    cursor.execute(\n",
        "        'INSERT INTO your_table (id, first_name, last_name, age) VALUES (?, ?, ?, ?)',\n",
        "        record\n",
        "    )\n",
        "\n",
        "# Valider les changements\n",
        "conn.commit()\n",
        "\n",
        "# Fermer le curseur et la connexion\n",
        "cursor.close()\n",
        "conn.close()\n"
      ]
    }
  ]
}