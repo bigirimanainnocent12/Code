{
  "nbformat": 4,
  "nbformat_minor": 0,
  "metadata": {
    "colab": {
      "provenance": [],
      "authorship_tag": "ABX9TyNZzgD2ABA2ekE4XnOOkTF8",
      "include_colab_link": true
    },
    "kernelspec": {
      "name": "python3",
      "display_name": "Python 3"
    },
    "language_info": {
      "name": "python"
    }
  },
  "cells": [
    {
      "cell_type": "markdown",
      "metadata": {
        "id": "view-in-github",
        "colab_type": "text"
      },
      "source": [
        "<a href=\"https://colab.research.google.com/github/bigirimanainnocent12/Code/blob/main/ACCESS.ipynb\" target=\"_parent\"><img src=\"https://colab.research.google.com/assets/colab-badge.svg\" alt=\"Open In Colab\"/></a>"
      ]
    },
    {
      "cell_type": "code",
      "source": [
        "import sqlite3\n",
        "baseDeDonnees = sqlite3.connect('contacts.db')\n",
        "curseur = baseDeDonnees.cursor()\n",
        "curseur.execute(\"CREATE TABLE Contacts (id INTEGER PRIMARY KEY AUTOINCREMENT, nom TEXT NOT NULL, prenom TEXT NOT NULL, adresse TEXT NOT NULL, telephoneFixe TEXT)\") # Création de la base de données\n",
        "baseDeDonnees.commit() # On envoie la requête SQL\n",
        "curseur.execute(\"INSERT INTO Contacts (nom, prenom, adresse, telephoneFixe) VALUES (?, ?, ?, ?)\", (\"Dupont\", \"Paul\", \"15 rue Louis Pasteur 10000 Troyes\", \"0325997452\")) # On ajoute un enregistrement\n",
        "baseDeDonnees.commit()\n",
        "baseDeDonnees.close()\n"
      ],
      "metadata": {
        "id": "HL4lT_D9QX4i"
      },
      "execution_count": 17,
      "outputs": []
    },
    {
      "cell_type": "code",
      "source": [
        "\n",
        "import sqlite3\n",
        "baseDeDonnees = sqlite3.connect('contacts.db')\n",
        "curseur = baseDeDonnees.cursor()\n",
        "personnes = [\n",
        "\t{\"nom\":\"Chabot\", \"prenom\":\"Martin\", \"adresse\":\"18 rue Général Leclerc 13600 La Ciotat\", \"telephoneFixe\":\"0499506373\"},\n",
        "\t{\"nom\":\"Delbois\", \"prenom\":\"Julie\", \"adresse\":\"35 rue du Château 77176 Savigny le Temple\", \"telephoneFixe\":\"0199836074\"},\n",
        "\t{\"nom\":\"Rivard\", \"prenom\":\"Christelle\", \"adresse\":\"83 rue de Québec 83400 Hyères\", \"telephoneFixe\":\"0499687013\"}\n",
        "]\n",
        "for contact in personnes:\n",
        "\tcurseur.execute(\"INSERT INTO Contacts (nom, prenom, adresse, telephoneFixe) VALUES (:nom, :prenom, :adresse, :telephoneFixe)\", contact) # On ajoute un enregistrement depuis un dictionnaire\n",
        "baseDeDonnees.commit()\n",
        "idDernierEnregistrement = curseur.lastrowid # Récupère l'ID de la dernière ligne insérée.\n",
        "baseDeDonnees.close()"
      ],
      "metadata": {
        "id": "MV-xN7KgQ1rO"
      },
      "execution_count": 18,
      "outputs": []
    },
    {
      "cell_type": "code",
      "source": [
        "import sqlite3\n",
        "baseDeDonnees = sqlite3.connect('contacts.db')\n",
        "curseur = baseDeDonnees.cursor()\n",
        "curseur.execute(\"UPDATE Contacts SET telephoneFixe = ? WHERE id = ?\", (\"0598635076\", 2))\n",
        "baseDeDonnees.commit()\n",
        "baseDeDonnees.close()"
      ],
      "metadata": {
        "id": "YxfyAF2URDqU"
      },
      "execution_count": 19,
      "outputs": []
    }
  ]
}